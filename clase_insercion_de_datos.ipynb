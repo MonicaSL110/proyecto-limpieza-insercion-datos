{
 "cells": [
  {
   "cell_type": "code",
   "execution_count": 1,
   "metadata": {},
   "outputs": [],
   "source": [
    "import mysql.connector"
   ]
  },
  {
   "cell_type": "code",
   "execution_count": 2,
   "metadata": {},
   "outputs": [],
   "source": [
    "mydb = mysql.connector.connect(user = 'root', password = 'AlumnaAdalab', host = '127.0.0.1', database = 'prueba_pr1e4_adalab')\n",
    "mycursor = mydb.cursor()\n",
    "\n",
    "try: \n",
    "    mycursor.execute('''CREATE TABLE datos_sql(\n",
    "    index_sql INT NOT NULL AUTO_INCREMENT,\n",
    "    q10_part_1 VARCHAR(250),\n",
    "    q10_part_2 VARCHAR(250),\n",
    "    q10_part_3 VARCHAR(250),\n",
    "    q10_part_4 VARCHAR(250),\n",
    "    q10_part_5 VARCHAR(250),\n",
    "    q10_part_6 VARCHAR(250),\n",
    "    q10_part_7 VARCHAR(250),\n",
    "    q10_part_8 VARCHAR(250),\n",
    "    q10_part_9 VARCHAR(250),\n",
    "    q10_part_10 VARCHAR(250),\n",
    "    q10_part_11 VARCHAR(250),\n",
    "    q10_part_12 VARCHAR(250),\n",
    "    q10_part_13 VARCHAR(250),\n",
    "    q10_part_14 VARCHAR(250),\n",
    "    q10_part_15 VARCHAR(250),\n",
    "    q10_part_16 VARCHAR(250),\n",
    "    q10_other VARCHAR(250),\n",
    "    d482xta VARCHAR(250),\n",
    "    PRIMARY KEY(index_sql))''')\n",
    "\n",
    "except mysql.connector.Error as err:\n",
    "    print(err)\n",
    "    print(\"Error Code:\", err.errno)\n",
    "    print(\"SQLSTATE\", err.sqlstate)\n",
    "    print(\"Message\", err.msg)"
   ]
  },
  {
   "cell_type": "code",
   "execution_count": 3,
   "metadata": {},
   "outputs": [],
   "source": [
    "tabla_sql = '''CREATE TABLE datos_sql(\n",
    "    index_sql INT NOT NULL AUTO_INCREMENT,\n",
    "    q10_part_1 VARCHAR(250),\n",
    "    q10_part_2 VARCHAR(250),\n",
    "    q10_part_3 VARCHAR(250),\n",
    "    q10_part_4 VARCHAR(250),\n",
    "    q10_part_5 VARCHAR(250),\n",
    "    q10_part_6 VARCHAR(250),\n",
    "    q10_part_7 VARCHAR(250),\n",
    "    q10_part_8 VARCHAR(250),\n",
    "    q10_part_9 VARCHAR(250),\n",
    "    q10_part_10 VARCHAR(250),\n",
    "    q10_part_11 VARCHAR(250),\n",
    "    q10_part_12 VARCHAR(250),\n",
    "    q10_part_13 VARCHAR(250),\n",
    "    q10_part_14 VARCHAR(250),\n",
    "    q10_part_15 VARCHAR(250),\n",
    "    q10_part_16 VARCHAR(250),\n",
    "    q10_other VARCHAR(250),\n",
    "    d482xta VARCHAR(250),\n",
    "    PRIMARY KEY(index_sql))'''"
   ]
  },
  {
   "cell_type": "code",
   "execution_count": 4,
   "metadata": {},
   "outputs": [],
   "source": [
    "def creacion_tabla(codigo_sql, valor_password, valor_database, valor_user = 'root', valor_host = '127.0.0.1'):\n",
    "    \n",
    "    mydb = mysql.connector.connect(user = valor_user, password = valor_password, host = valor_host, database = valor_database)\n",
    "    mycursor = mydb.cursor()\n",
    "\n",
    "    try: \n",
    "        mycursor.execute(codigo_sql)\n",
    "\n",
    "    except mysql.connector.Error as err:\n",
    "        print(err)\n",
    "        print(\"Error Code:\", err.errno)\n",
    "        print(\"SQLSTATE\", err.sqlstate)\n",
    "        print(\"Message\", err.msg)"
   ]
  },
  {
   "cell_type": "code",
   "execution_count": 5,
   "metadata": {},
   "outputs": [
    {
     "name": "stdout",
     "output_type": "stream",
     "text": [
      "1050 (42S01): Table 'datos_sql' already exists\n",
      "Error Code: 1050\n",
      "SQLSTATE 42S01\n",
      "Message Table 'datos_sql' already exists\n"
     ]
    }
   ],
   "source": [
    "creacion_tabla(tabla_sql, 'AlumnaAdalab', 'prueba_pr1e4_adalab')"
   ]
  },
  {
   "cell_type": "code",
   "execution_count": 7,
   "metadata": {},
   "outputs": [],
   "source": [
    "mydb = mysql.connector.connect(user = 'root', password = 'AlumnaAdalab', host = '127.0.0.1', database = 'prueba_pr1e4_adalab')\n",
    "mycursor = mydb.cursor()\n",
    "\n",
    "sql = 'INSERT INTO datos_sql VALUES (%s,%s,%s,%s,%s,%s,%s,%s,%s,%s,%s,%s,%s,%s,%s,%s,%s,%s,%s)'\n",
    "val = [(2, '50-54', 'Man','784', '50-54', 'Man','784', '50-54', 'Man','784', '50-54', 'Man','784', '50-54', 'Man','784', '50-54','784', '50-54'), (3, '50-54', 'Man','784', '50-54', 'Man','784', '50-54', 'Man','784', '50-54', 'Man','784', '50-54', 'Man','784', '50-54','784', '50-54')]\n",
    "\n",
    "try: \n",
    "    mycursor.executemany(sql, val)\n",
    "    mydb.commit()\n",
    "except mysql.connector.Error as err:\n",
    "    print(err)\n",
    "    print(\"Error Code:\", err.errno)\n",
    "    print(\"SQLSTATE\", err.sqlstate)\n",
    "    print(\"Message\", err.msg)"
   ]
  },
  {
   "cell_type": "code",
   "execution_count": null,
   "metadata": {},
   "outputs": [],
   "source": [
    "def insercion_datos(codigo_sql, valores, valor_password, valor_database, valor_user = 'root', valor_host = '127.0.0.1'):\n",
    "    mydb = mysql.connector.connect(user = valor_user, password = valor_password, host = valor_host, database = valor_database)\n",
    "    mycursor = mydb.cursor()\n",
    "\n",
    "    try: \n",
    "        mycursor.executemany(codigo_sql, valores)\n",
    "        mydb.commit()\n",
    "    except mysql.connector.Error as err:\n",
    "        print(err)\n",
    "        print(\"Error Code:\", err.errno)\n",
    "        print(\"SQLSTATE\", err.sqlstate)\n",
    "        print(\"Message\", err.msg)\n"
   ]
  }
 ],
 "metadata": {
  "kernelspec": {
   "display_name": "adalabenv",
   "language": "python",
   "name": "python3"
  },
  "language_info": {
   "codemirror_mode": {
    "name": "ipython",
    "version": 3
   },
   "file_extension": ".py",
   "mimetype": "text/x-python",
   "name": "python",
   "nbconvert_exporter": "python",
   "pygments_lexer": "ipython3",
   "version": "3.9.7"
  },
  "orig_nbformat": 4
 },
 "nbformat": 4,
 "nbformat_minor": 2
}
