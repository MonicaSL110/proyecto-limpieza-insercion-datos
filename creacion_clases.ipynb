{
 "cells": [
  {
   "cell_type": "code",
   "execution_count": 13,
   "metadata": {},
   "outputs": [],
   "source": [
    "class Archivo_txt:\n",
    "   \n",
    "   def __init__(self, ruta):\n",
    "      self.ruta = ruta\n",
    "         \n",
    "   def apertura_archivo(self):\n",
    "\n",
    "      with open(self.ruta, 'r') as file:\n",
    "         file_source = file.readlines()\n",
    "    \n",
    "      return file_source\n",
    "   "
   ]
  },
  {
   "cell_type": "code",
   "execution_count": 14,
   "metadata": {},
   "outputs": [],
   "source": [
    "archivo = Archivo_txt('data_txt')"
   ]
  },
  {
   "cell_type": "code",
   "execution_count": 15,
   "metadata": {},
   "outputs": [
    {
     "ename": "AttributeError",
     "evalue": "type object 'Archivo_txt' has no attribute 'file_source'",
     "output_type": "error",
     "traceback": [
      "\u001b[0;31m---------------------------------------------------------------------------\u001b[0m",
      "\u001b[0;31mAttributeError\u001b[0m                            Traceback (most recent call last)",
      "Cell \u001b[0;32mIn[15], line 1\u001b[0m\n\u001b[0;32m----> 1\u001b[0m Archivo_txt\u001b[39m.\u001b[39;49mfile_source\n",
      "\u001b[0;31mAttributeError\u001b[0m: type object 'Archivo_txt' has no attribute 'file_source'"
     ]
    }
   ],
   "source": [
    "Archivo_txt.file_source"
   ]
  }
 ],
 "metadata": {
  "kernelspec": {
   "display_name": "adalabenv",
   "language": "python",
   "name": "python3"
  },
  "language_info": {
   "codemirror_mode": {
    "name": "ipython",
    "version": 3
   },
   "file_extension": ".py",
   "mimetype": "text/x-python",
   "name": "python",
   "nbconvert_exporter": "python",
   "pygments_lexer": "ipython3",
   "version": "3.10.11"
  },
  "orig_nbformat": 4
 },
 "nbformat": 4,
 "nbformat_minor": 2
}
