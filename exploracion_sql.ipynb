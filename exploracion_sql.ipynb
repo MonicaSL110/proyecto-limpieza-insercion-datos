{
 "cells": [
  {
   "cell_type": "code",
   "execution_count": null,
   "metadata": {},
   "outputs": [],
   "source": [
    "#intercambiamos los ERROR por NULL usando atajo ctrl+F -OK"
   ]
  }
 ],
 "metadata": {
  "language_info": {
   "name": "python"
  },
  "orig_nbformat": 4
 },
 "nbformat": 4,
 "nbformat_minor": 2
}
